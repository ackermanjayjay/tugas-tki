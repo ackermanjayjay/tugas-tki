{
  "nbformat": 4,
  "nbformat_minor": 0,
  "metadata": {
    "colab": {
      "provenance": [],
      "toc_visible": true
    },
    "kernelspec": {
      "name": "python3",
      "display_name": "Python 3"
    },
    "language_info": {
      "name": "python"
    }
  },
  "cells": [
    {
      "cell_type": "markdown",
      "source": [
        "# Case Study\n",
        "<p>Buat program python dengan VSM secara berkelompok. Buat sebuah korpus terlebih dahulu. Korpus boleh dari twitter, news, ataupun yang lain.\n",
        "\n",
        "<p>Buat laporan hasil program dengan menentukan 5 kueri.\n",
        "\n",
        "Dipresentasikan di pertemuan 11"
      ],
      "metadata": {
        "id": "_Zu1dzc67UqV"
      }
    },
    {
      "cell_type": "markdown",
      "source": [
        " Korpus dari twitter tentang G20 Indonesia\n",
        "* NLTK library for :\n",
        "> Stemming English use Algo Porter <br>\n",
        "> Stopwords english and Indonesia \n",
        "<br>\n",
        "* Sastrawing for :     \n",
        "> for stemming Indonesia text\n"
      ],
      "metadata": {
        "id": "DyTXpzxJs_oD"
      }
    },
    {
      "cell_type": "code",
      "source": [
        "# Install Library sastrawi\n",
        "!pip install Sastrawi"
      ],
      "metadata": {
        "colab": {
          "base_uri": "https://localhost:8080/"
        },
        "id": "KufDS-fyuCYP",
        "outputId": "19cfac7f-de04-44fd-e5a0-b111af209a38"
      },
      "execution_count": 1,
      "outputs": [
        {
          "output_type": "stream",
          "name": "stdout",
          "text": [
            "Looking in indexes: https://pypi.org/simple, https://us-python.pkg.dev/colab-wheels/public/simple/\n",
            "Requirement already satisfied: Sastrawi in /usr/local/lib/python3.7/dist-packages (1.0.1)\n"
          ]
        }
      ]
    },
    {
      "cell_type": "code",
      "execution_count": 2,
      "metadata": {
        "id": "V3mQYJQrVmBQ"
      },
      "outputs": [],
      "source": [
        "import pandas as pd"
      ]
    },
    {
      "cell_type": "markdown",
      "source": [
        "# Get data"
      ],
      "metadata": {
        "id": "IxuuFu1I7Rbx"
      }
    },
    {
      "cell_type": "code",
      "source": [
        "df_G20_non_hash=pd.read_csv(\"/content/dataset_twitter-scraper_G20.csv\")\n",
        "df_G20_hash=pd.read_csv(\"/content/dataset_twitter-scraper_G20_hash.csv\")"
      ],
      "metadata": {
        "id": "uz_6MTCsVovg"
      },
      "execution_count": 3,
      "outputs": []
    },
    {
      "cell_type": "code",
      "source": [
        "df_G20_non_hash.head()"
      ],
      "metadata": {
        "colab": {
          "base_uri": "https://localhost:8080/",
          "height": 612
        },
        "id": "I4tb41rbcAti",
        "outputId": "9c536386-84bb-4532-a403-f88c1373304b"
      },
      "execution_count": 4,
      "outputs": [
        {
          "output_type": "execute_result",
          "data": {
            "text/plain": [
              "       conversation_id                created_at  favorite_count  \\\n",
              "0  1591778555083755520  2022-11-13T13:02:36.000Z             618   \n",
              "1  1591802671580995588  2022-11-13T14:38:25.000Z             929   \n",
              "2  1592038936142295040  2022-11-14T06:17:15.000Z              59   \n",
              "3  1592152351116333056  2022-11-14T13:47:55.000Z            1123   \n",
              "4  1592254645853995010  2022-11-14T20:34:24.000Z              39   \n",
              "\n",
              "                                           full_text          hashtags/0  \\\n",
              "0  One Earth. One FAMILY. ONE Future !! \\n\\n#G20 ...                 G20   \n",
              "1  The G20 delegation has arrived in Bali, they r...  WonderfulIndonesia   \n",
              "2  Tomorrow, the 2022 G20 Bali Summit will be hel...        G20Indonesia   \n",
              "3  President Kagame joined President @Macky_Sall ...        G20Indonesia   \n",
              "4  What did I just watch???? #XiJinping #BidenXiM...           XiJinping   \n",
              "\n",
              "       hashtags/1    hashtags/2     hashtags/3 hashtags/4 hashtags/5  ...  \\\n",
              "0        G20India  G20Indonesia            NaN        NaN        NaN  ...   \n",
              "1    G20Indonesia           NaN            NaN        NaN        NaN  ...   \n",
              "2             NaN           NaN            NaN        NaN        NaN  ...   \n",
              "3             NaN           NaN            NaN        NaN        NaN  ...   \n",
              "4  BidenXiMeeting  G20Indonesia  G20BaliSummit        NaN        NaN  ...   \n",
              "\n",
              "  user_mentions/0/screen_name user_mentions/1/id_str  user_mentions/1/name  \\\n",
              "0                         NaN                    NaN                   NaN   \n",
              "1                         NaN                    NaN                   NaN   \n",
              "2                         NaN                    NaN                   NaN   \n",
              "3                  Macky_Sall           2.987156e+09    Cyril Ramaphosa 🇿🇦   \n",
              "4                         NaN                    NaN                   NaN   \n",
              "\n",
              "  user_mentions/1/screen_name user_mentions/2/id_str user_mentions/2/name  \\\n",
              "0                         NaN                    NaN                  NaN   \n",
              "1                         NaN                    NaN                  NaN   \n",
              "2                         NaN                    NaN                  NaN   \n",
              "3              CyrilRamaphosa            149991703.0    Alberto Fernández   \n",
              "4                         NaN                    NaN                  NaN   \n",
              "\n",
              "  user_mentions/2/screen_name user_mentions/3/id_str user_mentions/3/name  \\\n",
              "0                         NaN                    NaN                  NaN   \n",
              "1                         NaN                    NaN                  NaN   \n",
              "2                         NaN                    NaN                  NaN   \n",
              "3                    alferdez           1.976143e+09      Emmanuel Macron   \n",
              "4                         NaN                    NaN                  NaN   \n",
              "\n",
              "  user_mentions/3/screen_name  \n",
              "0                         NaN  \n",
              "1                         NaN  \n",
              "2                         NaN  \n",
              "3              EmmanuelMacron  \n",
              "4                         NaN  \n",
              "\n",
              "[5 rows x 39 columns]"
            ],
            "text/html": [
              "\n",
              "  <div id=\"df-7956b243-b0c7-41a0-9cdb-1db2f3654793\">\n",
              "    <div class=\"colab-df-container\">\n",
              "      <div>\n",
              "<style scoped>\n",
              "    .dataframe tbody tr th:only-of-type {\n",
              "        vertical-align: middle;\n",
              "    }\n",
              "\n",
              "    .dataframe tbody tr th {\n",
              "        vertical-align: top;\n",
              "    }\n",
              "\n",
              "    .dataframe thead th {\n",
              "        text-align: right;\n",
              "    }\n",
              "</style>\n",
              "<table border=\"1\" class=\"dataframe\">\n",
              "  <thead>\n",
              "    <tr style=\"text-align: right;\">\n",
              "      <th></th>\n",
              "      <th>conversation_id</th>\n",
              "      <th>created_at</th>\n",
              "      <th>favorite_count</th>\n",
              "      <th>full_text</th>\n",
              "      <th>hashtags/0</th>\n",
              "      <th>hashtags/1</th>\n",
              "      <th>hashtags/2</th>\n",
              "      <th>hashtags/3</th>\n",
              "      <th>hashtags/4</th>\n",
              "      <th>hashtags/5</th>\n",
              "      <th>...</th>\n",
              "      <th>user_mentions/0/screen_name</th>\n",
              "      <th>user_mentions/1/id_str</th>\n",
              "      <th>user_mentions/1/name</th>\n",
              "      <th>user_mentions/1/screen_name</th>\n",
              "      <th>user_mentions/2/id_str</th>\n",
              "      <th>user_mentions/2/name</th>\n",
              "      <th>user_mentions/2/screen_name</th>\n",
              "      <th>user_mentions/3/id_str</th>\n",
              "      <th>user_mentions/3/name</th>\n",
              "      <th>user_mentions/3/screen_name</th>\n",
              "    </tr>\n",
              "  </thead>\n",
              "  <tbody>\n",
              "    <tr>\n",
              "      <th>0</th>\n",
              "      <td>1591778555083755520</td>\n",
              "      <td>2022-11-13T13:02:36.000Z</td>\n",
              "      <td>618</td>\n",
              "      <td>One Earth. One FAMILY. ONE Future !! \\n\\n#G20 ...</td>\n",
              "      <td>G20</td>\n",
              "      <td>G20India</td>\n",
              "      <td>G20Indonesia</td>\n",
              "      <td>NaN</td>\n",
              "      <td>NaN</td>\n",
              "      <td>NaN</td>\n",
              "      <td>...</td>\n",
              "      <td>NaN</td>\n",
              "      <td>NaN</td>\n",
              "      <td>NaN</td>\n",
              "      <td>NaN</td>\n",
              "      <td>NaN</td>\n",
              "      <td>NaN</td>\n",
              "      <td>NaN</td>\n",
              "      <td>NaN</td>\n",
              "      <td>NaN</td>\n",
              "      <td>NaN</td>\n",
              "    </tr>\n",
              "    <tr>\n",
              "      <th>1</th>\n",
              "      <td>1591802671580995588</td>\n",
              "      <td>2022-11-13T14:38:25.000Z</td>\n",
              "      <td>929</td>\n",
              "      <td>The G20 delegation has arrived in Bali, they r...</td>\n",
              "      <td>WonderfulIndonesia</td>\n",
              "      <td>G20Indonesia</td>\n",
              "      <td>NaN</td>\n",
              "      <td>NaN</td>\n",
              "      <td>NaN</td>\n",
              "      <td>NaN</td>\n",
              "      <td>...</td>\n",
              "      <td>NaN</td>\n",
              "      <td>NaN</td>\n",
              "      <td>NaN</td>\n",
              "      <td>NaN</td>\n",
              "      <td>NaN</td>\n",
              "      <td>NaN</td>\n",
              "      <td>NaN</td>\n",
              "      <td>NaN</td>\n",
              "      <td>NaN</td>\n",
              "      <td>NaN</td>\n",
              "    </tr>\n",
              "    <tr>\n",
              "      <th>2</th>\n",
              "      <td>1592038936142295040</td>\n",
              "      <td>2022-11-14T06:17:15.000Z</td>\n",
              "      <td>59</td>\n",
              "      <td>Tomorrow, the 2022 G20 Bali Summit will be hel...</td>\n",
              "      <td>G20Indonesia</td>\n",
              "      <td>NaN</td>\n",
              "      <td>NaN</td>\n",
              "      <td>NaN</td>\n",
              "      <td>NaN</td>\n",
              "      <td>NaN</td>\n",
              "      <td>...</td>\n",
              "      <td>NaN</td>\n",
              "      <td>NaN</td>\n",
              "      <td>NaN</td>\n",
              "      <td>NaN</td>\n",
              "      <td>NaN</td>\n",
              "      <td>NaN</td>\n",
              "      <td>NaN</td>\n",
              "      <td>NaN</td>\n",
              "      <td>NaN</td>\n",
              "      <td>NaN</td>\n",
              "    </tr>\n",
              "    <tr>\n",
              "      <th>3</th>\n",
              "      <td>1592152351116333056</td>\n",
              "      <td>2022-11-14T13:47:55.000Z</td>\n",
              "      <td>1123</td>\n",
              "      <td>President Kagame joined President @Macky_Sall ...</td>\n",
              "      <td>G20Indonesia</td>\n",
              "      <td>NaN</td>\n",
              "      <td>NaN</td>\n",
              "      <td>NaN</td>\n",
              "      <td>NaN</td>\n",
              "      <td>NaN</td>\n",
              "      <td>...</td>\n",
              "      <td>Macky_Sall</td>\n",
              "      <td>2.987156e+09</td>\n",
              "      <td>Cyril Ramaphosa 🇿🇦</td>\n",
              "      <td>CyrilRamaphosa</td>\n",
              "      <td>149991703.0</td>\n",
              "      <td>Alberto Fernández</td>\n",
              "      <td>alferdez</td>\n",
              "      <td>1.976143e+09</td>\n",
              "      <td>Emmanuel Macron</td>\n",
              "      <td>EmmanuelMacron</td>\n",
              "    </tr>\n",
              "    <tr>\n",
              "      <th>4</th>\n",
              "      <td>1592254645853995010</td>\n",
              "      <td>2022-11-14T20:34:24.000Z</td>\n",
              "      <td>39</td>\n",
              "      <td>What did I just watch???? #XiJinping #BidenXiM...</td>\n",
              "      <td>XiJinping</td>\n",
              "      <td>BidenXiMeeting</td>\n",
              "      <td>G20Indonesia</td>\n",
              "      <td>G20BaliSummit</td>\n",
              "      <td>NaN</td>\n",
              "      <td>NaN</td>\n",
              "      <td>...</td>\n",
              "      <td>NaN</td>\n",
              "      <td>NaN</td>\n",
              "      <td>NaN</td>\n",
              "      <td>NaN</td>\n",
              "      <td>NaN</td>\n",
              "      <td>NaN</td>\n",
              "      <td>NaN</td>\n",
              "      <td>NaN</td>\n",
              "      <td>NaN</td>\n",
              "      <td>NaN</td>\n",
              "    </tr>\n",
              "  </tbody>\n",
              "</table>\n",
              "<p>5 rows × 39 columns</p>\n",
              "</div>\n",
              "      <button class=\"colab-df-convert\" onclick=\"convertToInteractive('df-7956b243-b0c7-41a0-9cdb-1db2f3654793')\"\n",
              "              title=\"Convert this dataframe to an interactive table.\"\n",
              "              style=\"display:none;\">\n",
              "        \n",
              "  <svg xmlns=\"http://www.w3.org/2000/svg\" height=\"24px\"viewBox=\"0 0 24 24\"\n",
              "       width=\"24px\">\n",
              "    <path d=\"M0 0h24v24H0V0z\" fill=\"none\"/>\n",
              "    <path d=\"M18.56 5.44l.94 2.06.94-2.06 2.06-.94-2.06-.94-.94-2.06-.94 2.06-2.06.94zm-11 1L8.5 8.5l.94-2.06 2.06-.94-2.06-.94L8.5 2.5l-.94 2.06-2.06.94zm10 10l.94 2.06.94-2.06 2.06-.94-2.06-.94-.94-2.06-.94 2.06-2.06.94z\"/><path d=\"M17.41 7.96l-1.37-1.37c-.4-.4-.92-.59-1.43-.59-.52 0-1.04.2-1.43.59L10.3 9.45l-7.72 7.72c-.78.78-.78 2.05 0 2.83L4 21.41c.39.39.9.59 1.41.59.51 0 1.02-.2 1.41-.59l7.78-7.78 2.81-2.81c.8-.78.8-2.07 0-2.86zM5.41 20L4 18.59l7.72-7.72 1.47 1.35L5.41 20z\"/>\n",
              "  </svg>\n",
              "      </button>\n",
              "      \n",
              "  <style>\n",
              "    .colab-df-container {\n",
              "      display:flex;\n",
              "      flex-wrap:wrap;\n",
              "      gap: 12px;\n",
              "    }\n",
              "\n",
              "    .colab-df-convert {\n",
              "      background-color: #E8F0FE;\n",
              "      border: none;\n",
              "      border-radius: 50%;\n",
              "      cursor: pointer;\n",
              "      display: none;\n",
              "      fill: #1967D2;\n",
              "      height: 32px;\n",
              "      padding: 0 0 0 0;\n",
              "      width: 32px;\n",
              "    }\n",
              "\n",
              "    .colab-df-convert:hover {\n",
              "      background-color: #E2EBFA;\n",
              "      box-shadow: 0px 1px 2px rgba(60, 64, 67, 0.3), 0px 1px 3px 1px rgba(60, 64, 67, 0.15);\n",
              "      fill: #174EA6;\n",
              "    }\n",
              "\n",
              "    [theme=dark] .colab-df-convert {\n",
              "      background-color: #3B4455;\n",
              "      fill: #D2E3FC;\n",
              "    }\n",
              "\n",
              "    [theme=dark] .colab-df-convert:hover {\n",
              "      background-color: #434B5C;\n",
              "      box-shadow: 0px 1px 3px 1px rgba(0, 0, 0, 0.15);\n",
              "      filter: drop-shadow(0px 1px 2px rgba(0, 0, 0, 0.3));\n",
              "      fill: #FFFFFF;\n",
              "    }\n",
              "  </style>\n",
              "\n",
              "      <script>\n",
              "        const buttonEl =\n",
              "          document.querySelector('#df-7956b243-b0c7-41a0-9cdb-1db2f3654793 button.colab-df-convert');\n",
              "        buttonEl.style.display =\n",
              "          google.colab.kernel.accessAllowed ? 'block' : 'none';\n",
              "\n",
              "        async function convertToInteractive(key) {\n",
              "          const element = document.querySelector('#df-7956b243-b0c7-41a0-9cdb-1db2f3654793');\n",
              "          const dataTable =\n",
              "            await google.colab.kernel.invokeFunction('convertToInteractive',\n",
              "                                                     [key], {});\n",
              "          if (!dataTable) return;\n",
              "\n",
              "          const docLinkHtml = 'Like what you see? Visit the ' +\n",
              "            '<a target=\"_blank\" href=https://colab.research.google.com/notebooks/data_table.ipynb>data table notebook</a>'\n",
              "            + ' to learn more about interactive tables.';\n",
              "          element.innerHTML = '';\n",
              "          dataTable['output_type'] = 'display_data';\n",
              "          await google.colab.output.renderOutput(dataTable, element);\n",
              "          const docLink = document.createElement('div');\n",
              "          docLink.innerHTML = docLinkHtml;\n",
              "          element.appendChild(docLink);\n",
              "        }\n",
              "      </script>\n",
              "    </div>\n",
              "  </div>\n",
              "  "
            ]
          },
          "metadata": {},
          "execution_count": 4
        }
      ]
    },
    {
      "cell_type": "code",
      "source": [
        "df_G20_hash.head()"
      ],
      "metadata": {
        "colab": {
          "base_uri": "https://localhost:8080/",
          "height": 577
        },
        "id": "s3pgHUjZa-zn",
        "outputId": "1ed20a18-916f-40e4-be90-bb9ccc7a4566"
      },
      "execution_count": 5,
      "outputs": [
        {
          "output_type": "execute_result",
          "data": {
            "text/plain": [
              "       conversation_id                created_at  favorite_count  \\\n",
              "0  1528684321254608896  2022-05-23T10:28:38.000Z          182022   \n",
              "1  1592060213615812608  2022-11-14T07:41:48.000Z            1029   \n",
              "2  1592310386954731520  2022-11-15T00:15:54.000Z             324   \n",
              "3  1592313811121602561  2022-11-15T00:29:30.000Z            1350   \n",
              "4  1592323692775833601  2022-11-15T02:08:41.000Z              59   \n",
              "\n",
              "                                           full_text        hashtags/0  \\\n",
              "0  Elon musk has changed Twitter like button from...               NaN   \n",
              "1  During the #G20Indonesia Indonesian 🇮🇩 Preside...      G20Indonesia   \n",
              "2  📸 Here're group photos of #Fellas at various s...            Fellas   \n",
              "3  Hari ini Indonesia jadi perhatian Dunia\\n\\nAda...      G20Indonesia   \n",
              "4  France's Emmanuel Macron met with Xi Jinping o...  G20Indonesia2022   \n",
              "\n",
              "     hashtags/1    hashtags/2     hashtags/3 hashtags/4  hashtags/5  ...  \\\n",
              "0           NaN           NaN            NaN        NaN         NaN  ...   \n",
              "1           G20      G20India            NaN        NaN         NaN  ...   \n",
              "2          Bali  G20Indonesia  NAFOexpansion       NAFO  NAFOFellas  ...   \n",
              "3           NaN           NaN            NaN        NaN         NaN  ...   \n",
              "4  G20Indonesia           NaN            NaN        NaN         NaN  ...   \n",
              "\n",
              "                  user/url  user/utc_offset user/verified user/want_retweets  \\\n",
              "0  https://t.co/2cZkKNvlDx              NaN         False                NaN   \n",
              "1  https://t.co/DyRSJYDSzQ              NaN         False                NaN   \n",
              "2                      NaN              NaN         False                NaN   \n",
              "3                      NaN              NaN         False                NaN   \n",
              "4  https://t.co/IH4P72QDIe              NaN          True                NaN   \n",
              "\n",
              "  user_mentions/0/id_str user_mentions/0/name user_mentions/0/screen_name  \\\n",
              "0                    NaN                  NaN                         NaN   \n",
              "1                    NaN                  NaN                         NaN   \n",
              "2           1.454347e+18       Vasyl Hamianin                   VHamianin   \n",
              "3                    NaN                  NaN                         NaN   \n",
              "4                    NaN                  NaN                         NaN   \n",
              "\n",
              "  user_mentions/1/id_str user_mentions/1/name user_mentions/1/screen_name  \n",
              "0                    NaN                  NaN                         NaN  \n",
              "1                    NaN                  NaN                         NaN  \n",
              "2                    NaN                  NaN                         NaN  \n",
              "3                    NaN                  NaN                         NaN  \n",
              "4                    NaN                  NaN                         NaN  \n",
              "\n",
              "[5 rows x 87 columns]"
            ],
            "text/html": [
              "\n",
              "  <div id=\"df-5265ddce-f5a2-457d-9b4a-772d1cf275f2\">\n",
              "    <div class=\"colab-df-container\">\n",
              "      <div>\n",
              "<style scoped>\n",
              "    .dataframe tbody tr th:only-of-type {\n",
              "        vertical-align: middle;\n",
              "    }\n",
              "\n",
              "    .dataframe tbody tr th {\n",
              "        vertical-align: top;\n",
              "    }\n",
              "\n",
              "    .dataframe thead th {\n",
              "        text-align: right;\n",
              "    }\n",
              "</style>\n",
              "<table border=\"1\" class=\"dataframe\">\n",
              "  <thead>\n",
              "    <tr style=\"text-align: right;\">\n",
              "      <th></th>\n",
              "      <th>conversation_id</th>\n",
              "      <th>created_at</th>\n",
              "      <th>favorite_count</th>\n",
              "      <th>full_text</th>\n",
              "      <th>hashtags/0</th>\n",
              "      <th>hashtags/1</th>\n",
              "      <th>hashtags/2</th>\n",
              "      <th>hashtags/3</th>\n",
              "      <th>hashtags/4</th>\n",
              "      <th>hashtags/5</th>\n",
              "      <th>...</th>\n",
              "      <th>user/url</th>\n",
              "      <th>user/utc_offset</th>\n",
              "      <th>user/verified</th>\n",
              "      <th>user/want_retweets</th>\n",
              "      <th>user_mentions/0/id_str</th>\n",
              "      <th>user_mentions/0/name</th>\n",
              "      <th>user_mentions/0/screen_name</th>\n",
              "      <th>user_mentions/1/id_str</th>\n",
              "      <th>user_mentions/1/name</th>\n",
              "      <th>user_mentions/1/screen_name</th>\n",
              "    </tr>\n",
              "  </thead>\n",
              "  <tbody>\n",
              "    <tr>\n",
              "      <th>0</th>\n",
              "      <td>1528684321254608896</td>\n",
              "      <td>2022-05-23T10:28:38.000Z</td>\n",
              "      <td>182022</td>\n",
              "      <td>Elon musk has changed Twitter like button from...</td>\n",
              "      <td>NaN</td>\n",
              "      <td>NaN</td>\n",
              "      <td>NaN</td>\n",
              "      <td>NaN</td>\n",
              "      <td>NaN</td>\n",
              "      <td>NaN</td>\n",
              "      <td>...</td>\n",
              "      <td>https://t.co/2cZkKNvlDx</td>\n",
              "      <td>NaN</td>\n",
              "      <td>False</td>\n",
              "      <td>NaN</td>\n",
              "      <td>NaN</td>\n",
              "      <td>NaN</td>\n",
              "      <td>NaN</td>\n",
              "      <td>NaN</td>\n",
              "      <td>NaN</td>\n",
              "      <td>NaN</td>\n",
              "    </tr>\n",
              "    <tr>\n",
              "      <th>1</th>\n",
              "      <td>1592060213615812608</td>\n",
              "      <td>2022-11-14T07:41:48.000Z</td>\n",
              "      <td>1029</td>\n",
              "      <td>During the #G20Indonesia Indonesian 🇮🇩 Preside...</td>\n",
              "      <td>G20Indonesia</td>\n",
              "      <td>G20</td>\n",
              "      <td>G20India</td>\n",
              "      <td>NaN</td>\n",
              "      <td>NaN</td>\n",
              "      <td>NaN</td>\n",
              "      <td>...</td>\n",
              "      <td>https://t.co/DyRSJYDSzQ</td>\n",
              "      <td>NaN</td>\n",
              "      <td>False</td>\n",
              "      <td>NaN</td>\n",
              "      <td>NaN</td>\n",
              "      <td>NaN</td>\n",
              "      <td>NaN</td>\n",
              "      <td>NaN</td>\n",
              "      <td>NaN</td>\n",
              "      <td>NaN</td>\n",
              "    </tr>\n",
              "    <tr>\n",
              "      <th>2</th>\n",
              "      <td>1592310386954731520</td>\n",
              "      <td>2022-11-15T00:15:54.000Z</td>\n",
              "      <td>324</td>\n",
              "      <td>📸 Here're group photos of #Fellas at various s...</td>\n",
              "      <td>Fellas</td>\n",
              "      <td>Bali</td>\n",
              "      <td>G20Indonesia</td>\n",
              "      <td>NAFOexpansion</td>\n",
              "      <td>NAFO</td>\n",
              "      <td>NAFOFellas</td>\n",
              "      <td>...</td>\n",
              "      <td>NaN</td>\n",
              "      <td>NaN</td>\n",
              "      <td>False</td>\n",
              "      <td>NaN</td>\n",
              "      <td>1.454347e+18</td>\n",
              "      <td>Vasyl Hamianin</td>\n",
              "      <td>VHamianin</td>\n",
              "      <td>NaN</td>\n",
              "      <td>NaN</td>\n",
              "      <td>NaN</td>\n",
              "    </tr>\n",
              "    <tr>\n",
              "      <th>3</th>\n",
              "      <td>1592313811121602561</td>\n",
              "      <td>2022-11-15T00:29:30.000Z</td>\n",
              "      <td>1350</td>\n",
              "      <td>Hari ini Indonesia jadi perhatian Dunia\\n\\nAda...</td>\n",
              "      <td>G20Indonesia</td>\n",
              "      <td>NaN</td>\n",
              "      <td>NaN</td>\n",
              "      <td>NaN</td>\n",
              "      <td>NaN</td>\n",
              "      <td>NaN</td>\n",
              "      <td>...</td>\n",
              "      <td>NaN</td>\n",
              "      <td>NaN</td>\n",
              "      <td>False</td>\n",
              "      <td>NaN</td>\n",
              "      <td>NaN</td>\n",
              "      <td>NaN</td>\n",
              "      <td>NaN</td>\n",
              "      <td>NaN</td>\n",
              "      <td>NaN</td>\n",
              "      <td>NaN</td>\n",
              "    </tr>\n",
              "    <tr>\n",
              "      <th>4</th>\n",
              "      <td>1592323692775833601</td>\n",
              "      <td>2022-11-15T02:08:41.000Z</td>\n",
              "      <td>59</td>\n",
              "      <td>France's Emmanuel Macron met with Xi Jinping o...</td>\n",
              "      <td>G20Indonesia2022</td>\n",
              "      <td>G20Indonesia</td>\n",
              "      <td>NaN</td>\n",
              "      <td>NaN</td>\n",
              "      <td>NaN</td>\n",
              "      <td>NaN</td>\n",
              "      <td>...</td>\n",
              "      <td>https://t.co/IH4P72QDIe</td>\n",
              "      <td>NaN</td>\n",
              "      <td>True</td>\n",
              "      <td>NaN</td>\n",
              "      <td>NaN</td>\n",
              "      <td>NaN</td>\n",
              "      <td>NaN</td>\n",
              "      <td>NaN</td>\n",
              "      <td>NaN</td>\n",
              "      <td>NaN</td>\n",
              "    </tr>\n",
              "  </tbody>\n",
              "</table>\n",
              "<p>5 rows × 87 columns</p>\n",
              "</div>\n",
              "      <button class=\"colab-df-convert\" onclick=\"convertToInteractive('df-5265ddce-f5a2-457d-9b4a-772d1cf275f2')\"\n",
              "              title=\"Convert this dataframe to an interactive table.\"\n",
              "              style=\"display:none;\">\n",
              "        \n",
              "  <svg xmlns=\"http://www.w3.org/2000/svg\" height=\"24px\"viewBox=\"0 0 24 24\"\n",
              "       width=\"24px\">\n",
              "    <path d=\"M0 0h24v24H0V0z\" fill=\"none\"/>\n",
              "    <path d=\"M18.56 5.44l.94 2.06.94-2.06 2.06-.94-2.06-.94-.94-2.06-.94 2.06-2.06.94zm-11 1L8.5 8.5l.94-2.06 2.06-.94-2.06-.94L8.5 2.5l-.94 2.06-2.06.94zm10 10l.94 2.06.94-2.06 2.06-.94-2.06-.94-.94-2.06-.94 2.06-2.06.94z\"/><path d=\"M17.41 7.96l-1.37-1.37c-.4-.4-.92-.59-1.43-.59-.52 0-1.04.2-1.43.59L10.3 9.45l-7.72 7.72c-.78.78-.78 2.05 0 2.83L4 21.41c.39.39.9.59 1.41.59.51 0 1.02-.2 1.41-.59l7.78-7.78 2.81-2.81c.8-.78.8-2.07 0-2.86zM5.41 20L4 18.59l7.72-7.72 1.47 1.35L5.41 20z\"/>\n",
              "  </svg>\n",
              "      </button>\n",
              "      \n",
              "  <style>\n",
              "    .colab-df-container {\n",
              "      display:flex;\n",
              "      flex-wrap:wrap;\n",
              "      gap: 12px;\n",
              "    }\n",
              "\n",
              "    .colab-df-convert {\n",
              "      background-color: #E8F0FE;\n",
              "      border: none;\n",
              "      border-radius: 50%;\n",
              "      cursor: pointer;\n",
              "      display: none;\n",
              "      fill: #1967D2;\n",
              "      height: 32px;\n",
              "      padding: 0 0 0 0;\n",
              "      width: 32px;\n",
              "    }\n",
              "\n",
              "    .colab-df-convert:hover {\n",
              "      background-color: #E2EBFA;\n",
              "      box-shadow: 0px 1px 2px rgba(60, 64, 67, 0.3), 0px 1px 3px 1px rgba(60, 64, 67, 0.15);\n",
              "      fill: #174EA6;\n",
              "    }\n",
              "\n",
              "    [theme=dark] .colab-df-convert {\n",
              "      background-color: #3B4455;\n",
              "      fill: #D2E3FC;\n",
              "    }\n",
              "\n",
              "    [theme=dark] .colab-df-convert:hover {\n",
              "      background-color: #434B5C;\n",
              "      box-shadow: 0px 1px 3px 1px rgba(0, 0, 0, 0.15);\n",
              "      filter: drop-shadow(0px 1px 2px rgba(0, 0, 0, 0.3));\n",
              "      fill: #FFFFFF;\n",
              "    }\n",
              "  </style>\n",
              "\n",
              "      <script>\n",
              "        const buttonEl =\n",
              "          document.querySelector('#df-5265ddce-f5a2-457d-9b4a-772d1cf275f2 button.colab-df-convert');\n",
              "        buttonEl.style.display =\n",
              "          google.colab.kernel.accessAllowed ? 'block' : 'none';\n",
              "\n",
              "        async function convertToInteractive(key) {\n",
              "          const element = document.querySelector('#df-5265ddce-f5a2-457d-9b4a-772d1cf275f2');\n",
              "          const dataTable =\n",
              "            await google.colab.kernel.invokeFunction('convertToInteractive',\n",
              "                                                     [key], {});\n",
              "          if (!dataTable) return;\n",
              "\n",
              "          const docLinkHtml = 'Like what you see? Visit the ' +\n",
              "            '<a target=\"_blank\" href=https://colab.research.google.com/notebooks/data_table.ipynb>data table notebook</a>'\n",
              "            + ' to learn more about interactive tables.';\n",
              "          element.innerHTML = '';\n",
              "          dataTable['output_type'] = 'display_data';\n",
              "          await google.colab.output.renderOutput(dataTable, element);\n",
              "          const docLink = document.createElement('div');\n",
              "          docLink.innerHTML = docLinkHtml;\n",
              "          element.appendChild(docLink);\n",
              "        }\n",
              "      </script>\n",
              "    </div>\n",
              "  </div>\n",
              "  "
            ]
          },
          "metadata": {},
          "execution_count": 5
        }
      ]
    },
    {
      "cell_type": "markdown",
      "source": [
        "# Cleaning data"
      ],
      "metadata": {
        "id": "hRRbEEqRz2EO"
      }
    },
    {
      "cell_type": "markdown",
      "source": [
        "Concat dua data\n",
        "> karena memakai API dari apify dilakukan pencarian korpus berdasar\n",
        "hashtag dan tidak menggunakan hashtag agar korpus semakin banyak"
      ],
      "metadata": {
        "id": "qf-OKlca0F26"
      }
    },
    {
      "cell_type": "code",
      "source": [
        "df_G20_hash[\"full_text\"],df_G20_non_hash[\"full_text\"]"
      ],
      "metadata": {
        "colab": {
          "base_uri": "https://localhost:8080/"
        },
        "id": "VWVPzR-ez31l",
        "outputId": "3097434c-2a30-4e24-bc2b-295898350a55"
      },
      "execution_count": 6,
      "outputs": [
        {
          "output_type": "execute_result",
          "data": {
            "text/plain": [
              "(0     Elon musk has changed Twitter like button from...\n",
              " 1     During the #G20Indonesia Indonesian 🇮🇩 Preside...\n",
              " 2     📸 Here're group photos of #Fellas at various s...\n",
              " 3     Hari ini Indonesia jadi perhatian Dunia\\n\\nAda...\n",
              " 4     France's Emmanuel Macron met with Xi Jinping o...\n",
              " 5     Brown vintage dress ideas✨\\n\\n— a thread\\n\\nBa...\n",
              " 6     🇮🇩G20 Indonesia 2022🇮🇩\\n#hetalia #hwsindonesia...\n",
              " 7     PM @narendramodi meet French 🇫🇷 President Emma...\n",
              " 8     Hon'ble PM Shri @narendramodi Ji attends the #...\n",
              " 9     Today in Bali, President Kagame attends the op...\n",
              " 10    Watch Prime Minister @narendramodi and US Pres...\n",
              " 11    President Xi Jinping at the G20 official welco...\n",
              " 12    PM @narendramodi interacted with President Mac...\n",
              " 13    Prime Ministers @narendramodi and Netherlands ...\n",
              " 14    Together we are taking action.\\n \\nProductive ...\n",
              " 15    ‘I’m having trouble reading this :#LostBiden i...\n",
              " 16    President Kagame and Indonesian President Joko...\n",
              " 17    dark-tone shoes reccommendation 🖤\\n\\n—thread\\n...\n",
              " 18    The US-India partnership 🇺🇸 🇮🇳\\n\\n@POTUS @nare...\n",
              " 19    President Kagame attends #G20Indonesia. https:...\n",
              " 20    Brown vintage dress ideas✨\\n\\nSuaminya gibran ...\n",
              " 21    Nehru addressing thousands of Indonesians in I...\n",
              " Name: full_text, dtype: object,\n",
              " 0     One Earth. One FAMILY. ONE Future !! \\n\\n#G20 ...\n",
              " 1     The G20 delegation has arrived in Bali, they r...\n",
              " 2     Tomorrow, the 2022 G20 Bali Summit will be hel...\n",
              " 3     President Kagame joined President @Macky_Sall ...\n",
              " 4     What did I just watch???? #XiJinping #BidenXiM...\n",
              " 5     On the sidelines of #G20Indonesia, Crown Princ...\n",
              " 6     France's Emmanuel Macron met with Xi Jinping o...\n",
              " 7     India means business, India means sustainabili...\n",
              " 8     PM @narendramodi meet French 🇫🇷 President Emma...\n",
              " 9     Hon'ble PM Shri @narendramodi Ji attends the #...\n",
              " 10    Today in Bali, President Kagame attends the op...\n",
              " 11    Presiden Jokowi mendorong penguatan kemitraan ...\n",
              " 12    President HH Sheikh Mohamed bin Zayed Al Nahya...\n",
              " 13    Together we are taking action.\\n \\nProductive ...\n",
              " 14    Prime Minister @narendramodi with UK 🇬🇧 Prime ...\n",
              " 15    ‘I’m having trouble reading this :#LostBiden i...\n",
              " 16    President Kagame and Indonesian President Joko...\n",
              " 17    President Kagame attends #G20Indonesia. https:...\n",
              " 18    The Welcoming Dinner of G20 Summit at Garuda W...\n",
              " 19    Welcome to our beautiful country, Indonesia.\\n...\n",
              " 20    Nehru addressing thousands of Indonesians in I...\n",
              " Name: full_text, dtype: object)"
            ]
          },
          "metadata": {},
          "execution_count": 6
        }
      ]
    },
    {
      "cell_type": "code",
      "source": [
        "df_G20_hash[\"full_text\"][0]"
      ],
      "metadata": {
        "colab": {
          "base_uri": "https://localhost:8080/",
          "height": 36
        },
        "id": "4xLF3b_u1zf9",
        "outputId": "a49d7049-3257-4ac6-b879-4b6bc53217d9"
      },
      "execution_count": 7,
      "outputs": [
        {
          "output_type": "execute_result",
          "data": {
            "text/plain": [
              "'Elon musk has changed Twitter like button from ❤️ to 💙 https://t.co/RJueV7OHyS'"
            ],
            "application/vnd.google.colaboratory.intrinsic+json": {
              "type": "string"
            }
          },
          "metadata": {},
          "execution_count": 7
        }
      ]
    },
    {
      "cell_type": "markdown",
      "source": [
        "dapat dilihat bahwa ada text elon musk yang tidak relevan terhadap berita G20 "
      ],
      "metadata": {
        "id": "sYjrLcCY1rVS"
      }
    },
    {
      "cell_type": "markdown",
      "source": [
        "## Gabungkan data terlebih dahulu"
      ],
      "metadata": {
        "id": "HNL_38vp7hDC"
      }
    },
    {
      "cell_type": "code",
      "source": [
        "df_1=df_G20_hash[\"full_text\"]\n",
        "df_2=df_G20_non_hash[\"full_text\"]"
      ],
      "metadata": {
        "id": "_HnynPUk3Jso"
      },
      "execution_count": 8,
      "outputs": []
    },
    {
      "cell_type": "code",
      "source": [
        "df_G20_=pd.concat([df_1, df_2], ignore_index=True)"
      ],
      "metadata": {
        "id": "LsAeGBIk2-2f"
      },
      "execution_count": 9,
      "outputs": []
    },
    {
      "cell_type": "code",
      "source": [
        "df_G20_=pd.DataFrame({\n",
        "    \"full_text\":df_G20_\n",
        "}) # Simpan data yang sudah yang dsimpan kedalam dataframe"
      ],
      "metadata": {
        "id": "CylcgpwU3SK9"
      },
      "execution_count": 10,
      "outputs": []
    },
    {
      "cell_type": "code",
      "source": [
        "df_G20_.head()"
      ],
      "metadata": {
        "colab": {
          "base_uri": "https://localhost:8080/",
          "height": 206
        },
        "id": "Rk6Z86k-3ahK",
        "outputId": "141f9cc6-1105-4006-ff9d-adda8c81c3bc"
      },
      "execution_count": 11,
      "outputs": [
        {
          "output_type": "execute_result",
          "data": {
            "text/plain": [
              "                                           full_text\n",
              "0  Elon musk has changed Twitter like button from...\n",
              "1  During the #G20Indonesia Indonesian 🇮🇩 Preside...\n",
              "2  📸 Here're group photos of #Fellas at various s...\n",
              "3  Hari ini Indonesia jadi perhatian Dunia\\n\\nAda...\n",
              "4  France's Emmanuel Macron met with Xi Jinping o..."
            ],
            "text/html": [
              "\n",
              "  <div id=\"df-8ed2f39e-ef69-4d60-9294-c6d59f8b7335\">\n",
              "    <div class=\"colab-df-container\">\n",
              "      <div>\n",
              "<style scoped>\n",
              "    .dataframe tbody tr th:only-of-type {\n",
              "        vertical-align: middle;\n",
              "    }\n",
              "\n",
              "    .dataframe tbody tr th {\n",
              "        vertical-align: top;\n",
              "    }\n",
              "\n",
              "    .dataframe thead th {\n",
              "        text-align: right;\n",
              "    }\n",
              "</style>\n",
              "<table border=\"1\" class=\"dataframe\">\n",
              "  <thead>\n",
              "    <tr style=\"text-align: right;\">\n",
              "      <th></th>\n",
              "      <th>full_text</th>\n",
              "    </tr>\n",
              "  </thead>\n",
              "  <tbody>\n",
              "    <tr>\n",
              "      <th>0</th>\n",
              "      <td>Elon musk has changed Twitter like button from...</td>\n",
              "    </tr>\n",
              "    <tr>\n",
              "      <th>1</th>\n",
              "      <td>During the #G20Indonesia Indonesian 🇮🇩 Preside...</td>\n",
              "    </tr>\n",
              "    <tr>\n",
              "      <th>2</th>\n",
              "      <td>📸 Here're group photos of #Fellas at various s...</td>\n",
              "    </tr>\n",
              "    <tr>\n",
              "      <th>3</th>\n",
              "      <td>Hari ini Indonesia jadi perhatian Dunia\\n\\nAda...</td>\n",
              "    </tr>\n",
              "    <tr>\n",
              "      <th>4</th>\n",
              "      <td>France's Emmanuel Macron met with Xi Jinping o...</td>\n",
              "    </tr>\n",
              "  </tbody>\n",
              "</table>\n",
              "</div>\n",
              "      <button class=\"colab-df-convert\" onclick=\"convertToInteractive('df-8ed2f39e-ef69-4d60-9294-c6d59f8b7335')\"\n",
              "              title=\"Convert this dataframe to an interactive table.\"\n",
              "              style=\"display:none;\">\n",
              "        \n",
              "  <svg xmlns=\"http://www.w3.org/2000/svg\" height=\"24px\"viewBox=\"0 0 24 24\"\n",
              "       width=\"24px\">\n",
              "    <path d=\"M0 0h24v24H0V0z\" fill=\"none\"/>\n",
              "    <path d=\"M18.56 5.44l.94 2.06.94-2.06 2.06-.94-2.06-.94-.94-2.06-.94 2.06-2.06.94zm-11 1L8.5 8.5l.94-2.06 2.06-.94-2.06-.94L8.5 2.5l-.94 2.06-2.06.94zm10 10l.94 2.06.94-2.06 2.06-.94-2.06-.94-.94-2.06-.94 2.06-2.06.94z\"/><path d=\"M17.41 7.96l-1.37-1.37c-.4-.4-.92-.59-1.43-.59-.52 0-1.04.2-1.43.59L10.3 9.45l-7.72 7.72c-.78.78-.78 2.05 0 2.83L4 21.41c.39.39.9.59 1.41.59.51 0 1.02-.2 1.41-.59l7.78-7.78 2.81-2.81c.8-.78.8-2.07 0-2.86zM5.41 20L4 18.59l7.72-7.72 1.47 1.35L5.41 20z\"/>\n",
              "  </svg>\n",
              "      </button>\n",
              "      \n",
              "  <style>\n",
              "    .colab-df-container {\n",
              "      display:flex;\n",
              "      flex-wrap:wrap;\n",
              "      gap: 12px;\n",
              "    }\n",
              "\n",
              "    .colab-df-convert {\n",
              "      background-color: #E8F0FE;\n",
              "      border: none;\n",
              "      border-radius: 50%;\n",
              "      cursor: pointer;\n",
              "      display: none;\n",
              "      fill: #1967D2;\n",
              "      height: 32px;\n",
              "      padding: 0 0 0 0;\n",
              "      width: 32px;\n",
              "    }\n",
              "\n",
              "    .colab-df-convert:hover {\n",
              "      background-color: #E2EBFA;\n",
              "      box-shadow: 0px 1px 2px rgba(60, 64, 67, 0.3), 0px 1px 3px 1px rgba(60, 64, 67, 0.15);\n",
              "      fill: #174EA6;\n",
              "    }\n",
              "\n",
              "    [theme=dark] .colab-df-convert {\n",
              "      background-color: #3B4455;\n",
              "      fill: #D2E3FC;\n",
              "    }\n",
              "\n",
              "    [theme=dark] .colab-df-convert:hover {\n",
              "      background-color: #434B5C;\n",
              "      box-shadow: 0px 1px 3px 1px rgba(0, 0, 0, 0.15);\n",
              "      filter: drop-shadow(0px 1px 2px rgba(0, 0, 0, 0.3));\n",
              "      fill: #FFFFFF;\n",
              "    }\n",
              "  </style>\n",
              "\n",
              "      <script>\n",
              "        const buttonEl =\n",
              "          document.querySelector('#df-8ed2f39e-ef69-4d60-9294-c6d59f8b7335 button.colab-df-convert');\n",
              "        buttonEl.style.display =\n",
              "          google.colab.kernel.accessAllowed ? 'block' : 'none';\n",
              "\n",
              "        async function convertToInteractive(key) {\n",
              "          const element = document.querySelector('#df-8ed2f39e-ef69-4d60-9294-c6d59f8b7335');\n",
              "          const dataTable =\n",
              "            await google.colab.kernel.invokeFunction('convertToInteractive',\n",
              "                                                     [key], {});\n",
              "          if (!dataTable) return;\n",
              "\n",
              "          const docLinkHtml = 'Like what you see? Visit the ' +\n",
              "            '<a target=\"_blank\" href=https://colab.research.google.com/notebooks/data_table.ipynb>data table notebook</a>'\n",
              "            + ' to learn more about interactive tables.';\n",
              "          element.innerHTML = '';\n",
              "          dataTable['output_type'] = 'display_data';\n",
              "          await google.colab.output.renderOutput(dataTable, element);\n",
              "          const docLink = document.createElement('div');\n",
              "          docLink.innerHTML = docLinkHtml;\n",
              "          element.appendChild(docLink);\n",
              "        }\n",
              "      </script>\n",
              "    </div>\n",
              "  </div>\n",
              "  "
            ]
          },
          "metadata": {},
          "execution_count": 11
        }
      ]
    },
    {
      "cell_type": "markdown",
      "source": [
        "## Bersihkan data tidak relevan terhadap berita G20"
      ],
      "metadata": {
        "id": "5bQgPcla12PZ"
      }
    },
    {
      "cell_type": "markdown",
      "source": [
        "Melihat masing-masing data yang benar-benar relevan ke berita G20"
      ],
      "metadata": {
        "id": "nf2QZJMD0kRY"
      }
    },
    {
      "cell_type": "code",
      "source": [
        "df_G20_news_only=df_G20_[\"full_text\"].map(lambda news : \"G20\" in news) # Gunakan fungsi map untuk perulangan agar hanya melihat korpus text yang mengandung kata  \"G20\""
      ],
      "metadata": {
        "id": "PKY4S1Tp1I6n"
      },
      "execution_count": 12,
      "outputs": []
    },
    {
      "cell_type": "code",
      "source": [
        "df=df_G20_[df_G20_news_only]"
      ],
      "metadata": {
        "id": "RDYGqHVb3hL7"
      },
      "execution_count": 13,
      "outputs": []
    },
    {
      "cell_type": "code",
      "source": [
        "df[\"full_text\"]"
      ],
      "metadata": {
        "colab": {
          "base_uri": "https://localhost:8080/"
        },
        "id": "v6vpoNgI5QaN",
        "outputId": "e26ad783-74d6-4813-bf2b-60110b3515dc"
      },
      "execution_count": 14,
      "outputs": [
        {
          "output_type": "execute_result",
          "data": {
            "text/plain": [
              "1     During the #G20Indonesia Indonesian 🇮🇩 Preside...\n",
              "2     📸 Here're group photos of #Fellas at various s...\n",
              "3     Hari ini Indonesia jadi perhatian Dunia\\n\\nAda...\n",
              "4     France's Emmanuel Macron met with Xi Jinping o...\n",
              "6     🇮🇩G20 Indonesia 2022🇮🇩\\n#hetalia #hwsindonesia...\n",
              "7     PM @narendramodi meet French 🇫🇷 President Emma...\n",
              "8     Hon'ble PM Shri @narendramodi Ji attends the #...\n",
              "9     Today in Bali, President Kagame attends the op...\n",
              "10    Watch Prime Minister @narendramodi and US Pres...\n",
              "11    President Xi Jinping at the G20 official welco...\n",
              "12    PM @narendramodi interacted with President Mac...\n",
              "13    Prime Ministers @narendramodi and Netherlands ...\n",
              "14    Together we are taking action.\\n \\nProductive ...\n",
              "15    ‘I’m having trouble reading this :#LostBiden i...\n",
              "16    President Kagame and Indonesian President Joko...\n",
              "17    dark-tone shoes reccommendation 🖤\\n\\n—thread\\n...\n",
              "18    The US-India partnership 🇺🇸 🇮🇳\\n\\n@POTUS @nare...\n",
              "19    President Kagame attends #G20Indonesia. https:...\n",
              "20    Brown vintage dress ideas✨\\n\\nSuaminya gibran ...\n",
              "21    Nehru addressing thousands of Indonesians in I...\n",
              "22    One Earth. One FAMILY. ONE Future !! \\n\\n#G20 ...\n",
              "23    The G20 delegation has arrived in Bali, they r...\n",
              "24    Tomorrow, the 2022 G20 Bali Summit will be hel...\n",
              "25    President Kagame joined President @Macky_Sall ...\n",
              "26    What did I just watch???? #XiJinping #BidenXiM...\n",
              "27    On the sidelines of #G20Indonesia, Crown Princ...\n",
              "28    France's Emmanuel Macron met with Xi Jinping o...\n",
              "29    India means business, India means sustainabili...\n",
              "30    PM @narendramodi meet French 🇫🇷 President Emma...\n",
              "31    Hon'ble PM Shri @narendramodi Ji attends the #...\n",
              "32    Today in Bali, President Kagame attends the op...\n",
              "33    Presiden Jokowi mendorong penguatan kemitraan ...\n",
              "34    President HH Sheikh Mohamed bin Zayed Al Nahya...\n",
              "35    Together we are taking action.\\n \\nProductive ...\n",
              "36    Prime Minister @narendramodi with UK 🇬🇧 Prime ...\n",
              "37    ‘I’m having trouble reading this :#LostBiden i...\n",
              "38    President Kagame and Indonesian President Joko...\n",
              "39    President Kagame attends #G20Indonesia. https:...\n",
              "40    The Welcoming Dinner of G20 Summit at Garuda W...\n",
              "41    Welcome to our beautiful country, Indonesia.\\n...\n",
              "42    Nehru addressing thousands of Indonesians in I...\n",
              "Name: full_text, dtype: object"
            ]
          },
          "metadata": {},
          "execution_count": 14
        }
      ]
    },
    {
      "cell_type": "markdown",
      "source": [
        "# Exploration text data"
      ],
      "metadata": {
        "id": "dGdC0SIKuJ8E"
      }
    },
    {
      "cell_type": "markdown",
      "source": [
        "## Melihat berapa stopwords di data text"
      ],
      "metadata": {
        "id": "aF-I6h3mutFh"
      }
    },
    {
      "cell_type": "code",
      "source": [
        "import nltk\n",
        "from nltk.corpus import stopwords\n",
        "nltk.download('stopwords')"
      ],
      "metadata": {
        "colab": {
          "base_uri": "https://localhost:8080/"
        },
        "id": "He6UPNwkw043",
        "outputId": "e3131c88-4205-4ed9-b232-5db9e3aff133"
      },
      "execution_count": 15,
      "outputs": [
        {
          "output_type": "stream",
          "name": "stderr",
          "text": [
            "[nltk_data] Downloading package stopwords to /root/nltk_data...\n",
            "[nltk_data]   Package stopwords is already up-to-date!\n"
          ]
        },
        {
          "output_type": "execute_result",
          "data": {
            "text/plain": [
              "True"
            ]
          },
          "metadata": {},
          "execution_count": 15
        }
      ]
    },
    {
      "cell_type": "code",
      "source": [
        "stop_en=stopwords.words('english')\n",
        "stop_id=stopwords.words('indonesian')"
      ],
      "metadata": {
        "id": "zGFSrsOMxAkj"
      },
      "execution_count": 16,
      "outputs": []
    },
    {
      "cell_type": "code",
      "source": [
        "import matplotlib.pyplot as plt\n",
        "#code from https://app.neptune.ai/neptune-ai/eda-nlp-tools/n/1-3-top-stopwords-barchart-b953763c-3fea-4331-bff0-429411793e5f/5c0fca05-ba07-4564-a02e-c44b08bfb8cb\n",
        "def plot_top_stopwords_barchart(text):\n",
        "    stop=stop_en+stop_id\n",
        "    \n",
        "    new= text.str.split()\n",
        "    new=new.values.tolist()\n",
        "    corpus=[word for i in new for word in i]\n",
        "    from collections import defaultdict\n",
        "    dic=defaultdict(int)\n",
        "    for word in corpus:\n",
        "        if word in stop:\n",
        "            dic[word]+=1\n",
        "    top=sorted(dic.items(), key=lambda x:x[1],reverse=True)[:10] \n",
        "    x,y=zip(*top)\n",
        "    plt.figure(figsize=(15,10))\n",
        "    plt.bar(x,y)\n",
        "    plt.title(\"10 Stopwords yang sering muncul \")"
      ],
      "metadata": {
        "id": "18rvR3XF3_gx"
      },
      "execution_count": 29,
      "outputs": []
    },
    {
      "cell_type": "code",
      "source": [
        "plot_top_stopwords_barchart(df[\"full_text\"])"
      ],
      "metadata": {
        "colab": {
          "base_uri": "https://localhost:8080/",
          "height": 607
        },
        "id": "R88hs6DN4bA6",
        "outputId": "86933931-2bb0-42e8-bb0c-364af7a220d3"
      },
      "execution_count": 30,
      "outputs": [
        {
          "output_type": "display_data",
          "data": {
            "text/plain": [
              "<Figure size 1080x720 with 1 Axes>"
            ],
            "image/png": "[encoded data removed]"
          },
          "metadata": {
            "needs_background": "light"
          }
        }
      ]
    },
    {
      "cell_type": "markdown",
      "source": [
        "# Preprocessing text\n",
        "> Remove Stopwords\n",
        "\n",
        "> Stemming\n",
        "\n",
        "> Case folding"
      ],
      "metadata": {
        "id": "-LZDRN1d73Wr"
      }
    },
    {
      "cell_type": "code",
      "source": [
        "import re\n",
        "def caseFolding(text):\n",
        "  text=text.lower()\n",
        "  text=re.sub(r'[\"\"]')"
      ],
      "metadata": {
        "id": "VxF4DKEV76Gs"
      },
      "execution_count": 31,
      "outputs": []
    }
  ]
}